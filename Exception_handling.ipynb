{
  "nbformat": 4,
  "nbformat_minor": 0,
  "metadata": {
    "colab": {
      "provenance": []
    },
    "kernelspec": {
      "name": "python3",
      "display_name": "Python 3"
    },
    "language_info": {
      "name": "python"
    }
  },
  "cells": [
    {
      "cell_type": "markdown",
      "source": [
        "Q1. What is the difference between interpreted and compiled languages?\n",
        "\n",
        "Ans:The Key differences between Interpreted and compiled languages in how the source code is translated into machine code.\n",
        "\n",
        "Compiled Language:The entire program is translated into machine code by a compiler before it is run.\n",
        "E.g:C,C++\n",
        "\n",
        "\n",
        "Interpreted Languages:Code is executed line by line by an interpreter at runtime\n",
        "E.g:Python\n",
        "\n",
        "\n",
        "Q2. What is exception handling in Python?\n",
        "\n",
        "Ans: Exceptional handling in python is a way to handle errors and exceptions that occur during the execution of a program.\n",
        "\n",
        "Q3.What is the purpose of the finally block in exception handling?\n",
        "\n",
        "Ans: The finally block is used to define code that should always  run no matter what happens whether an exception is raised or not.\n",
        "\n",
        "Q4. What is logging in Python ?\n",
        "\n",
        "Ans: Logging in python is a way to track events that happens while your code runs.its like writing messages to a diary or log file to help you understand what your program is doing and debug issues more easily.\n",
        "\n",
        "Q5. What is the significance of the __del__ method in Python?\n",
        "\n",
        "Ans:The __ del __ method in python is a special method called a destructor.It is automatically called when an object is about to be destroyed.When its reference count drops to zero and pythons garbage collector decides to delete it.\n",
        "\n",
        "Q6.What is the difference between import and from ... import in Python?\n",
        "\n",
        "Ans:Both import and ... import are used to bring in external code into your current python program .The difference  lies in how much you import,and how you access it.\n",
        "\n",
        "Q7.How can you handle multiple exceptions in Python?\n",
        "\n",
        "Ans : In python we can handle multiple exceptions in a single try: block using multiple either:\n",
        "\n",
        "Q8.What is the purpose of the with statement when handling files in Python?\n",
        "\n",
        "Ans: The wiith statementin python is used to manage resources like in a safe and clean way.\n",
        "\n",
        "* Automatically opens and closes a file.\n",
        "* Ensures the file is properly closed even if a error has occured.\n",
        "* Simplifies the code  and avoids forgetting to call .close()\n",
        "\n",
        "\n",
        "\n",
        "Q9.  What is the difference between multithreading and multiprocessing?\n",
        "\n",
        "Ans.Both multithreading and multiprocessing are techniques for concurrent execution but they are fundamentally different in how they acheive it.\n",
        "\n",
        "Multithreading:\n",
        " * Runs multiple threads within same process .\n",
        " * They share the same memory space.\n",
        " * Best for I/O - bound tasks\n",
        "\n",
        "Multiprocessing:\n",
        " * Runs multiple processes,eah with its own memory space.\n",
        " * True parallelism on multiple cpu  cores.\n",
        " * Best for CPU - bound tasks\n",
        "\n",
        "Q10 What are the advantages of using logging in a program?\n",
        "\n",
        "Ans:  the advantages of using logging in a program are:\n",
        "* Helps in debugging and monitoring\n",
        "* Provides different levels of severity\n",
        "* Supports output to files and other destinations.\n",
        "\n",
        "Q11.What is memory management in Python?\n",
        "\n",
        "Ans: It refers to how python allocates ,uses and frees memory during execution of a program .python has a efficirnt and automatic memory management system that handles most of the work for you.\n",
        "\n",
        "Key components:\n",
        "\n",
        "* Automatic garbage collection\n",
        "* Memory allocation\n",
        "* Reference countig\n",
        "* Garbage collector\n",
        "\n",
        "\n",
        "Q12.  What are the basic steps involved in exception handling in Python?\n",
        "\n",
        "Ans: In Python ,exception handling is a structured way to manage error that occurs during the execution of a program.It helps prevent the program from crashing qnd allows you to handle errors gracefully.\n",
        "\n",
        "Basic steps of exception Handling:\n",
        "* Try Block\n",
        "* Except Block\n",
        "* Else Block\n",
        "* Finally Block\n",
        "\n",
        "\n",
        "Q13.  Why is memory management important in Python?\n",
        "\n",
        "Ans: memory management is important in Python because it:\n",
        "* keeps your code efficient.\n",
        "* Prevents errors and crashes\n",
        "* Makes program scalable and reliable\n",
        "* It helps you to write better code.\n",
        "\n",
        "Q14. What is the role of try and except in exception handling?\n",
        "\n",
        "Ans: The try and except block are the core components of exceptional handling in Python .They work together to catch and respond to errors that might occur during program execution.\n",
        "\n",
        "Role of try:\n",
        "* the try block is used to wrap code that might raise an exception .\n",
        "* Python will attempt to run the code inside the try block.\n",
        "* if no error occurs  ,It skips the except block.\n",
        "* If an error does occur python jumps to except block\n",
        "\n",
        "Role of Except:\n",
        "* The Except  block defines how to handle specific exceptions.\n",
        "* It only runs if an exception occurs in the try block.\n",
        "* you can catch specific types of errors or handle all exceptions using a general except.\n",
        "\n",
        "Q15. How does Python's garbage collection system work?\n",
        "\n",
        "Ans: pythons garbage collection system is responsible for automatically managing memory specifically,reclaiming memory used by objects that are no longer needed.it helps prevent memory leaks and keeps your programs efficient.\n",
        "\n",
        "Python uses a two-part memory management system:\n",
        "\n",
        "1)Refernce counting (Primary Method):\n",
        "  * every python object has an internal counter called a reference count.\n",
        "  * This count tracks how many references(variables,data structures,etc.) point to that object.\n",
        "  * when the reference count reaches zero,python automatically frees the memory.\n",
        "\n",
        "2)Garbage collector(Handles cyclic References):\n",
        "  * Reference counting cant detect cycles ,like objects that reference   each   other.\n",
        "  * pynthon uses the gc module to detect and clean up cyclic garbage.\n",
        "  * The cyclic garbage collector runs periodically and removes such unreachable cycles.\n",
        "\n",
        "Q16.What is the purpose of the else block in exception handling?\n",
        "\n",
        "Ans: The else block in python exception handling is used to define code that should run only if no exceptions were raised in the try block.\n",
        "\n",
        "Purpose of the else Block:\n",
        "* To seperate the error-prone code (in try) from the safe code(in els).\n",
        "* It helps keep the code cleaner and more readable.\n",
        "* It ensures that code in else runs only when everything in try succeeds.\n",
        "* if there's no error,the else block prints the result.\n",
        "* If an exception occurs,the else block is skipped.\n",
        "\n",
        "Q17. What are the common logging levels in Python?\n",
        "\n",
        "Ans: Python provides a built-in logging module to record events that happen during a programs execution.These events are categorized by logging levels that indicate the severity or importance of the messages.\n",
        "\n",
        "Common logging levels in python(from lowest to highest severity):\n",
        "* use DEBUG for internal details while developing.\n",
        "* use INFO for general progress updates.\n",
        "* use WARNING when something seems off but not broken.\n",
        "* use ERROR when something fails.\n",
        "* use CRITICAL when there's a severe problem affecting the entire system.\n",
        "\n",
        "Q18. What is the difference between os.fork() and multiprocessing in Python?\n",
        "\n",
        "Ans:Both os.fork() and multiprocessing module in python are used to create anew processes,but they are very different in how they work,and when you'd typically use them.\n",
        "\n",
        "os.fork():\n",
        "* It is a low-level system call\n",
        "* It is part of os module(unix only)\n",
        "* It supports only Unix/Linux only\n",
        "* The ease of use more complex and manual\n",
        "* The data sharing is done manual (via pipes,sockets etc..)\n",
        "* It is a manual Process control\n",
        "* It's use case is Advanced,low-level tasks\n",
        "\n",
        "Multiprocessing:\n",
        "* It is a high-level python module\n",
        "* It is a part of multiprocessing module\n",
        "* It supports cross-platform(Works on windows,maxOS,Linux)\n",
        "* The ease of use easier and more pythonic\n",
        "* The data sharing is built-in tools like Queue,Pipe,Value,Array\n",
        "* It uses Process class with start(),join(),etc..\n",
        "* Its use case is General-purpose parallelism.\n",
        "\n",
        "\n",
        "\n",
        "Q19.What is the importance of closing a file in Python?\n",
        "\n",
        "Ans: Closing a file in python is ery important because it ensures that resources are properly released and data i safely written.When you open a file (using open()),youre using system resources,and those need to be released after youre done.\n",
        "\n",
        "Q20.What is the difference between file.read() and file.readline() in Python?\n",
        "\n",
        "Ans:The diffterserence between file.read() and file.readline() in Python lies in how much content they read from a file:\n",
        "\n",
        "file.read():\n",
        "* Reads the entire content of the file(or a specified number of bytes).\n",
        "* Returns it as a single string.\n",
        "* Useful when you want to load the whole file at once.\n",
        "* You can also pass a number to read a specific number of characters.\n",
        "\n",
        "file.readline():\n",
        "* Reads only one line at a time from the file.\n",
        "* Returns a single line as a string,including the newline character(\\n) at the end(unless its the last line).\n",
        "* You can call it repeatedly to read file line - by-line.\n",
        "\n",
        "\n",
        "Q21. What is the logging module in Python used for?\n",
        "\n",
        "Ans:The logging module in python is used for recording messages that describes evengts that occur while a program runs.Its a powerful tool for debugging,monitoring,and error tracking,especially in large applications.\n",
        "\n",
        "Q22. What is the os module in Python used for in file handling?\n",
        "\n",
        "Ans: The os module in python used for working with operating system (like checking if a file exists,deleting,renaming)\n",
        "\n",
        "* os.path-For file path operations\n",
        "* shutil - For high-level file operations like copying\n",
        "* io - for core file I/O handling\n",
        "* pathlib - modern,object oriented file and path operations.\n",
        "\n",
        "\n",
        "Q23.What are the challenges associated with memory management in Python?\n",
        "\n",
        "Ans:Memory management in python is largely handled automatically by the pthon memory manager and garbage collector,but there are still some challenges and pitfalls that devlopers need to be aware of are:\n",
        "\n",
        "* Memory Leaks\n",
        "* Reference Cycles\n",
        "* High memory Consumption\n",
        "* Lack of Manual Control\n",
        "* Delayed garbage collection\n",
        "* Memory Fragmentation\n",
        "* improper use of C Extensions\n",
        "\n",
        "Q24. How do you raise an exception manually in Python?\n",
        "\n",
        "Ans: In Python,you can raise an exception manually using the raise statement.\n",
        "**Syntax: raise ExceptionType(\"Error message\")**\n",
        "* Use raise to throw an exception manually.\n",
        "* You can raise built-in exceptions or ustom exceptions.\n",
        "* useful for validating input,enforcing preconditions,or reporting unexpected errors.\n",
        "\n",
        "Q25. Why is it important to use multithreading in certain applications?\n",
        "\n",
        "Ans:Using **multithreading** is important in certain applications because it helps improve **performance,responsivenes**,and **resource utilization**,especially when dealing with **I/O-bound tasks.**\n",
        "\n",
        "Multithreading is important because:\n",
        "* Improved Responsiveness\n",
        "* Efficient Handling of I/O-Bound Operations\n",
        "* Concurrent Task Execution\n",
        "* Better resource utilization\n",
        "* Real time data Processing\n"
      ],
      "metadata": {
        "id": "J3W7ViqCwY1o"
      }
    },
    {
      "cell_type": "code",
      "execution_count": 13,
      "metadata": {
        "id": "yNoJWqqPQIDl"
      },
      "outputs": [],
      "source": [
        "#Q1.  How can you open a file for writing in Python and write a string to it?\n",
        "\n",
        "f = open(\"file.txt\", 'w')\n",
        "f.write(\"My name is Akash\\n\")\n",
        "f.write(\"I am from Jamshedpur\\n\")\n",
        "f.write(\"It is raining in my city\")\n",
        "f.close()\n"
      ]
    },
    {
      "cell_type": "code",
      "source": [
        "#Q2. Write a Python program to read the contents of a file and print each line?\n",
        "\n",
        "f = open(\"file.txt\", 'r')\n",
        "f.read()"
      ],
      "metadata": {
        "colab": {
          "base_uri": "https://localhost:8080/",
          "height": 36
        },
        "id": "uDoTfXuveU__",
        "outputId": "9affc04e-ff3b-4d3f-843a-0eb2fdb74731"
      },
      "execution_count": 4,
      "outputs": [
        {
          "output_type": "execute_result",
          "data": {
            "text/plain": [
              "'My name is Akash\\nI am from Jamshedpur\\nIt is raining in my city'"
            ],
            "application/vnd.google.colaboratory.intrinsic+json": {
              "type": "string"
            }
          },
          "metadata": {},
          "execution_count": 4
        }
      ]
    },
    {
      "cell_type": "code",
      "source": [
        "#Q3. How would you handle a case where the file doesn't exist while trying to open it for reading?\n",
        "\n",
        "try:\n",
        "  f = open(\"new_file.txt\", 'r')\n",
        "  f.read()\n",
        "except Exception as e:\n",
        "  print(\"File not found error\", e)"
      ],
      "metadata": {
        "colab": {
          "base_uri": "https://localhost:8080/"
        },
        "id": "rWq1VcNVe4Wi",
        "outputId": "231419b4-9673-4c5c-ce41-134837bc625e"
      },
      "execution_count": 6,
      "outputs": [
        {
          "output_type": "stream",
          "name": "stdout",
          "text": [
            "File not found error [Errno 2] No such file or directory: 'new_file.txt'\n"
          ]
        }
      ]
    },
    {
      "cell_type": "code",
      "source": [
        "#Q4. Write a Python script that reads from one file and writes its content to another file?\n",
        "\n",
        "with open(\"file.txt\", 'r') as f2:\n",
        "  content = f2.read()\n",
        "\n",
        "with open(\"file_3.txt\", 'w') as f3:\n",
        "  f3.write(content)\n",
        "\n",
        "print(\"File content copied successfully\")"
      ],
      "metadata": {
        "colab": {
          "base_uri": "https://localhost:8080/"
        },
        "id": "Pc_nbi9_gzlU",
        "outputId": "ca27d8cd-ccaa-43aa-c023-888420486f96"
      },
      "execution_count": 14,
      "outputs": [
        {
          "output_type": "stream",
          "name": "stdout",
          "text": [
            "File content copied successfully\n"
          ]
        }
      ]
    },
    {
      "cell_type": "code",
      "source": [
        "#Q5. How would you catch and handle division by zero error in Python?\n",
        "\n",
        "try:\n",
        "  10/0\n",
        "except ZeroDivisionError as e:\n",
        "  print(\"Error is\", e)\n",
        "\n",
        "print(\"If denominator is zero then replace by 1\",10/1)"
      ],
      "metadata": {
        "colab": {
          "base_uri": "https://localhost:8080/"
        },
        "id": "2nq-c85ioOGW",
        "outputId": "c173ddd3-5be5-4f3c-e62a-38edce5787b4"
      },
      "execution_count": 1,
      "outputs": [
        {
          "output_type": "stream",
          "name": "stdout",
          "text": [
            "Error is division by zero\n",
            "If denominator is zero then replace by 1 10.0\n"
          ]
        }
      ]
    },
    {
      "cell_type": "code",
      "source": [
        "#Q6. Write a Python program that logs an error message to a log file when a division by zero exception occurs?\n",
        "\n",
        "import logging\n",
        "logging.basicConfig(filename = \"program.log\", level = logging.DEBUG)\n",
        "try:\n",
        "  10/0\n",
        "except Exception as e:\n",
        "  logging.error(f\"Error is: {e}\")"
      ],
      "metadata": {
        "colab": {
          "base_uri": "https://localhost:8080/"
        },
        "id": "weRhBTfRp2LQ",
        "outputId": "bce6d043-5b07-40a8-cba5-3c08fe3d1693"
      },
      "execution_count": 6,
      "outputs": [
        {
          "output_type": "stream",
          "name": "stderr",
          "text": [
            "ERROR:root:Error is: division by zero\n"
          ]
        }
      ]
    },
    {
      "cell_type": "code",
      "source": [
        "#Q7. How do you log information at different levels (INFO, ERROR, WARNING) in Python using the logging module?\n",
        "\n",
        "import logging\n",
        "logging.basicConfig(filename = \"log_file.log\", level = logging.DEBUG, format = '%(asctime)s - %(levelname)s - %(message)s')\n",
        "logging.debug(\"This is a debug message\")\n",
        "logging.info(\"This is an info message\")\n",
        "logging.warning(\"This is a warning message\")\n",
        "logging.error(\"This is an error message\")"
      ],
      "metadata": {
        "colab": {
          "base_uri": "https://localhost:8080/"
        },
        "id": "wy_9vRvpFiYg",
        "outputId": "51a8681e-b6ed-4dee-beef-e3421137d020"
      },
      "execution_count": 10,
      "outputs": [
        {
          "output_type": "stream",
          "name": "stderr",
          "text": [
            "WARNING:root:This is a warning message\n",
            "ERROR:root:This is an error message\n"
          ]
        }
      ]
    },
    {
      "cell_type": "code",
      "source": [
        "#Q8. Write a program to handle a file opening error using exception handling?\n",
        "\n",
        "try:\n",
        "  file = open(\"new_file.txt\", 'r')\n",
        "  file.read()\n",
        "except Exception as e:\n",
        "  print(\"File not found error\", e)\n"
      ],
      "metadata": {
        "colab": {
          "base_uri": "https://localhost:8080/"
        },
        "id": "aikuQuYpZ-pY",
        "outputId": "e53602e2-2281-44f8-c426-6207bdaa9089"
      },
      "execution_count": 11,
      "outputs": [
        {
          "output_type": "stream",
          "name": "stdout",
          "text": [
            "File not found error [Errno 2] No such file or directory: 'new_file.txt'\n"
          ]
        }
      ]
    },
    {
      "cell_type": "code",
      "source": [
        "#Q9. How can you read a file line by line and store its content in a list in Python?\n",
        "\n",
        "f = open(\"file.txt\", 'r')\n",
        "f.readlines()\n"
      ],
      "metadata": {
        "colab": {
          "base_uri": "https://localhost:8080/"
        },
        "id": "Ov4sYIGHapDv",
        "outputId": "958726a1-97bf-46d7-964c-2c2631f3c147"
      },
      "execution_count": 15,
      "outputs": [
        {
          "output_type": "execute_result",
          "data": {
            "text/plain": [
              "['My name is Akash\\n', 'I am from Jamshedpur\\n', 'It is raining in my city']"
            ]
          },
          "metadata": {},
          "execution_count": 15
        }
      ]
    },
    {
      "cell_type": "code",
      "source": [
        "#Q10. How can you append data to an existing file in Python?\n",
        "\n",
        "f = open(\"file.txt\", 'a')\n",
        "f.write(\"I am a Data Analyst\\n\")\n",
        "f.write(\"I completed my course in PWSKILLS\\n\")\n",
        "f.close()"
      ],
      "metadata": {
        "id": "naAjo8wIdkxa"
      },
      "execution_count": 16,
      "outputs": []
    },
    {
      "cell_type": "code",
      "source": [
        "#Q11. Write a Python program that uses a try-except block to handle an error when attempting to access a dictionary key that doesn't exist?\n",
        "\n",
        "try:\n",
        "  data = {\"Name\" : \"Akash\", \"Age\": 29, \"Course\" : \"DA\"}\n",
        "  data[\"name\"]\n",
        "except Exception as e:\n",
        "  print(\"The error is\",e)"
      ],
      "metadata": {
        "colab": {
          "base_uri": "https://localhost:8080/"
        },
        "id": "NRecfNSJeAYX",
        "outputId": "1e89c60f-4e77-48f8-8a70-2721f71fecbb"
      },
      "execution_count": 26,
      "outputs": [
        {
          "output_type": "stream",
          "name": "stdout",
          "text": [
            "The error is 'name'\n"
          ]
        }
      ]
    },
    {
      "cell_type": "code",
      "source": [
        "#Q12. Write a program that demonstrates using multiple except blocks to handle different types of exceptions?\n",
        "\n",
        "data={\"a\":10,\"b\":0}\n",
        "try:\n",
        "  key=input(\"enter key to divide 100 by its value \")\n",
        "  value=data[key]\n",
        "  result=100/value\n",
        "  print(f\"result: 100/{value}={result}\")\n",
        "except KeyError:\n",
        "  print(\"The key you entered does not exist in the dictionary.\")\n",
        "except ZeroDivisionError:\n",
        "  print(\"Division by zero is not allowed.\")\n",
        "except Exception as e:\n",
        "  print(f\"An unexpected error occurred: {e}\")\n",
        "except valuerror:\n",
        "  print(\"Invalid input.Please enter a valid number.\")"
      ],
      "metadata": {
        "colab": {
          "base_uri": "https://localhost:8080/"
        },
        "id": "OaN8sivuhe1A",
        "outputId": "64dd51cf-48cf-42e9-cff9-b5903cda206b"
      },
      "execution_count": 29,
      "outputs": [
        {
          "output_type": "stream",
          "name": "stdout",
          "text": [
            "enter key to divide 100 by its value b\n",
            "Division by zero is not allowed.\n"
          ]
        }
      ]
    },
    {
      "cell_type": "code",
      "execution_count": 30,
      "metadata": {
        "colab": {
          "base_uri": "https://localhost:8080/"
        },
        "id": "0baAucoMKcGL",
        "outputId": "5827a7cc-d474-4a57-8116-a10a9a24fb7c"
      },
      "outputs": [
        {
          "output_type": "stream",
          "name": "stdout",
          "text": [
            "The file 'example.txt' does not exist.\n"
          ]
        }
      ],
      "source": [
        "#Q13. How would you check if a file exists before attempting to read it in Python\n",
        "import os\n",
        "filename =\"example.txt\"\n",
        "\n",
        "if os.path.exists(filename):\n",
        "  with open(filename,\"r\")as file:\n",
        "    content=file.read()\n",
        "    print(content)\n",
        "else:\n",
        "  print(f\"The file '{filename}' does not exist.\")"
      ]
    },
    {
      "cell_type": "code",
      "execution_count": 31,
      "metadata": {
        "colab": {
          "base_uri": "https://localhost:8080/"
        },
        "id": "Hh-pixo1LZ2h",
        "outputId": "38987057-8168-48bc-8e47-ca25fcef5a51"
      },
      "outputs": [
        {
          "output_type": "stream",
          "name": "stderr",
          "text": [
            "ERROR:root:Division by zero error occurred\n",
            "ERROR:root:Exception occured\n",
            "Traceback (most recent call last):\n",
            "  File \"/tmp/ipython-input-31-4083476893.py\", line 8, in divide_numbers\n",
            "    result= a / b\n",
            "            ~~^~~\n",
            "ZeroDivisionError: division by zero\n"
          ]
        }
      ],
      "source": [
        "#Q14. Write a program that uses the logging module to log both informational and error messages\n",
        "import logging\n",
        "logging.basicConfig(filename=\"error_log.txt\",level=logging.ERROR)\n",
        "\n",
        "def divide_numbers(a,b):\n",
        "  logging.info(f\"trying to divide {a} by {b}\")\n",
        "  try:\n",
        "    result= a / b\n",
        "    logging.info(f\"Result:{result}\")\n",
        "    return result\n",
        "  except ZeroDivisionError:\n",
        "    logging.error(\"Division by zero error occurred\")\n",
        "    logging.exception(\"Exception occured\")\n",
        "  except Exception as e:\n",
        "    logging.error(f\"An error occurred: {e}\")\n",
        "    logging.exception(\"Exception occured\")\n",
        "\n",
        "\n",
        "divide_numbers(10,0)"
      ]
    },
    {
      "cell_type": "code",
      "execution_count": 32,
      "metadata": {
        "colab": {
          "base_uri": "https://localhost:8080/"
        },
        "id": "BUpP4-t1YaZ5",
        "outputId": "37a02437-5067-4210-aeb0-05638fc8fda3"
      },
      "outputs": [
        {
          "output_type": "stream",
          "name": "stdout",
          "text": [
            "File 'test.txt' not found.\n"
          ]
        }
      ],
      "source": [
        "#Q15. Write a Python program that prints the content of a file and handles the case when the file is empty\n",
        "def print_content(file_name):\n",
        "  try:\n",
        "    with open(file_name,'r') as file:\n",
        "      content =file.read()\n",
        "      if not content:\n",
        "        print(f\"The file '{file_name}' is empty.\")\n",
        "      else:\n",
        "        print(f\"Content of '{file_name}':\")\n",
        "        print(content)\n",
        "  except FileNotFoundError:\n",
        "    print(f\"File '{file_name}' not found.\")\n",
        "  except Exception as e:\n",
        "    print(f\"An error occurred: {e}\")\n",
        "\n",
        "file_name=\"test.txt\"\n",
        "print_content(file_name)"
      ]
    },
    {
      "cell_type": "code",
      "source": [
        "#Demonstrate how to use memory profiling to check the memory usage of a small program\n"
      ],
      "metadata": {
        "colab": {
          "base_uri": "https://localhost:8080/",
          "height": 106
        },
        "id": "1agt0dw4r1LS",
        "outputId": "74d906c0-9958-45c3-c45e-4e89977e795a"
      },
      "execution_count": null,
      "outputs": [
        {
          "output_type": "error",
          "ename": "SyntaxError",
          "evalue": "invalid syntax (ipython-input-57-91379346.py, line 17)",
          "traceback": [
            "\u001b[0;36m  File \u001b[0;32m\"/tmp/ipython-input-57-91379346.py\"\u001b[0;36m, line \u001b[0;32m17\u001b[0m\n\u001b[0;31m    python -m Memory_profiler\u001b[0m\n\u001b[0m              ^\u001b[0m\n\u001b[0;31mSyntaxError\u001b[0m\u001b[0;31m:\u001b[0m invalid syntax\n"
          ]
        }
      ]
    },
    {
      "cell_type": "code",
      "execution_count": 34,
      "metadata": {
        "id": "LMlREOIUai9B"
      },
      "outputs": [],
      "source": [
        "#Q17. Write a Python program to create and write a list of numbers to a file, one number per lineF\n",
        "def write_numbers_to_file(numbers,file_name):\n",
        "  try:\n",
        "    with open(file_name,'w') as file:\n",
        "      for number in numbers:\n",
        "        file.write(f\"{number}\\n\")\n",
        "        print(f\"sucessfully wrote {len(numbers)} numbers to '{file_name}'.\")\n",
        "  except Exception as e:\n",
        "    print(f\"An error occurred: {e}\")\n",
        "\n",
        "    numbers_list=[1,2,3,4,5,6,7,8,9,10]\n",
        "    file_name=\"numbers.txt\"\n",
        "    write_numbers_to_file(file_name,numbers_list)"
      ]
    },
    {
      "cell_type": "code",
      "execution_count": 36,
      "metadata": {
        "colab": {
          "base_uri": "https://localhost:8080/"
        },
        "id": "H1ew9IHJcLcz",
        "outputId": "60963d08-9c91-4195-9906-62fd4d68353b"
      },
      "outputs": [
        {
          "output_type": "stream",
          "name": "stderr",
          "text": [
            "DEBUG:MyLogger:this is log message number 0\n",
            "DEBUG:MyLogger:this is log message number 1\n",
            "DEBUG:MyLogger:this is log message number 2\n",
            "DEBUG:MyLogger:this is log message number 3\n",
            "DEBUG:MyLogger:this is log message number 4\n",
            "DEBUG:MyLogger:this is log message number 5\n",
            "DEBUG:MyLogger:this is log message number 6\n",
            "DEBUG:MyLogger:this is log message number 7\n",
            "DEBUG:MyLogger:this is log message number 8\n",
            "DEBUG:MyLogger:this is log message number 9\n",
            "DEBUG:MyLogger:this is log message number 10\n",
            "DEBUG:MyLogger:this is log message number 11\n",
            "DEBUG:MyLogger:this is log message number 12\n",
            "DEBUG:MyLogger:this is log message number 13\n",
            "DEBUG:MyLogger:this is log message number 14\n",
            "DEBUG:MyLogger:this is log message number 15\n",
            "DEBUG:MyLogger:this is log message number 16\n",
            "DEBUG:MyLogger:this is log message number 17\n",
            "DEBUG:MyLogger:this is log message number 18\n",
            "DEBUG:MyLogger:this is log message number 19\n",
            "DEBUG:MyLogger:this is log message number 20\n",
            "DEBUG:MyLogger:this is log message number 21\n",
            "DEBUG:MyLogger:this is log message number 22\n",
            "DEBUG:MyLogger:this is log message number 23\n",
            "DEBUG:MyLogger:this is log message number 24\n",
            "DEBUG:MyLogger:this is log message number 25\n",
            "DEBUG:MyLogger:this is log message number 26\n",
            "DEBUG:MyLogger:this is log message number 27\n",
            "DEBUG:MyLogger:this is log message number 28\n",
            "DEBUG:MyLogger:this is log message number 29\n",
            "DEBUG:MyLogger:this is log message number 30\n",
            "DEBUG:MyLogger:this is log message number 31\n",
            "DEBUG:MyLogger:this is log message number 32\n",
            "DEBUG:MyLogger:this is log message number 33\n",
            "DEBUG:MyLogger:this is log message number 34\n",
            "DEBUG:MyLogger:this is log message number 35\n",
            "DEBUG:MyLogger:this is log message number 36\n",
            "DEBUG:MyLogger:this is log message number 37\n",
            "DEBUG:MyLogger:this is log message number 38\n",
            "DEBUG:MyLogger:this is log message number 39\n",
            "DEBUG:MyLogger:this is log message number 40\n",
            "DEBUG:MyLogger:this is log message number 41\n",
            "DEBUG:MyLogger:this is log message number 42\n",
            "DEBUG:MyLogger:this is log message number 43\n",
            "DEBUG:MyLogger:this is log message number 44\n",
            "DEBUG:MyLogger:this is log message number 45\n",
            "DEBUG:MyLogger:this is log message number 46\n",
            "DEBUG:MyLogger:this is log message number 47\n",
            "DEBUG:MyLogger:this is log message number 48\n",
            "DEBUG:MyLogger:this is log message number 49\n",
            "DEBUG:MyLogger:this is log message number 50\n",
            "DEBUG:MyLogger:this is log message number 51\n",
            "DEBUG:MyLogger:this is log message number 52\n",
            "DEBUG:MyLogger:this is log message number 53\n",
            "DEBUG:MyLogger:this is log message number 54\n",
            "DEBUG:MyLogger:this is log message number 55\n",
            "DEBUG:MyLogger:this is log message number 56\n",
            "DEBUG:MyLogger:this is log message number 57\n",
            "DEBUG:MyLogger:this is log message number 58\n",
            "DEBUG:MyLogger:this is log message number 59\n",
            "DEBUG:MyLogger:this is log message number 60\n",
            "DEBUG:MyLogger:this is log message number 61\n",
            "DEBUG:MyLogger:this is log message number 62\n",
            "DEBUG:MyLogger:this is log message number 63\n",
            "DEBUG:MyLogger:this is log message number 64\n",
            "DEBUG:MyLogger:this is log message number 65\n",
            "DEBUG:MyLogger:this is log message number 66\n",
            "DEBUG:MyLogger:this is log message number 67\n",
            "DEBUG:MyLogger:this is log message number 68\n",
            "DEBUG:MyLogger:this is log message number 69\n",
            "DEBUG:MyLogger:this is log message number 70\n",
            "DEBUG:MyLogger:this is log message number 71\n",
            "DEBUG:MyLogger:this is log message number 72\n",
            "DEBUG:MyLogger:this is log message number 73\n",
            "DEBUG:MyLogger:this is log message number 74\n",
            "DEBUG:MyLogger:this is log message number 75\n",
            "DEBUG:MyLogger:this is log message number 76\n",
            "DEBUG:MyLogger:this is log message number 77\n",
            "DEBUG:MyLogger:this is log message number 78\n",
            "DEBUG:MyLogger:this is log message number 79\n",
            "DEBUG:MyLogger:this is log message number 80\n",
            "DEBUG:MyLogger:this is log message number 81\n",
            "DEBUG:MyLogger:this is log message number 82\n",
            "DEBUG:MyLogger:this is log message number 83\n",
            "DEBUG:MyLogger:this is log message number 84\n",
            "DEBUG:MyLogger:this is log message number 85\n",
            "DEBUG:MyLogger:this is log message number 86\n",
            "DEBUG:MyLogger:this is log message number 87\n",
            "DEBUG:MyLogger:this is log message number 88\n",
            "DEBUG:MyLogger:this is log message number 89\n",
            "DEBUG:MyLogger:this is log message number 90\n",
            "DEBUG:MyLogger:this is log message number 91\n",
            "DEBUG:MyLogger:this is log message number 92\n",
            "DEBUG:MyLogger:this is log message number 93\n",
            "DEBUG:MyLogger:this is log message number 94\n",
            "DEBUG:MyLogger:this is log message number 95\n",
            "DEBUG:MyLogger:this is log message number 96\n",
            "DEBUG:MyLogger:this is log message number 97\n",
            "DEBUG:MyLogger:this is log message number 98\n",
            "DEBUG:MyLogger:this is log message number 99\n"
          ]
        }
      ],
      "source": [
        "#Q18. How would you implement a basic logging setup that logs to a file with rotation after 1MB\n",
        "\n",
        "import logging\n",
        "from logging.handlers import RotatingFileHandler\n",
        "\n",
        "logger=logging.getLogger(\"MyLogger\")\n",
        "logger.setLevel(logging.DEBUG)\n",
        "\n",
        "handler=RotatingFileHandler(\"my_log.log\",maxBytes=1000000,backupCount=5)\n",
        "formatter=logging.Formatter(\"%(asctime)s - %(levelname)s - %(message)s\")\n",
        "handler.setFormatter(formatter)\n",
        "\n",
        "logger.addHandler(handler)\n",
        "for i in range(100):\n",
        "  logger.debug(f\"this is log message number {i}\")"
      ]
    },
    {
      "cell_type": "code",
      "source": [
        "#Q19. Write a program that handles both IndexError and KeyError using a try-except block\n",
        "def handle_errors():\n",
        "  my_list=[10,20,40]\n",
        "  my_dict={\"a\":1,\"b\":2}\n",
        "\n",
        "  try:\n",
        "     print(\"Accessing index 4 from list:\")\n",
        "     print(my_list[5])\n",
        "  except IndexError as e:\n",
        "     print(\"IndexError occured:\",e)\n",
        "\n",
        "  try:\n",
        "      print(\"Accessing key 'c' from dictionary:\")\n",
        "      print(my_dict[\"c\"])\n",
        "  except KeyError as e:\n",
        "      print(\"KeyError occured:\",e)\n",
        "\n",
        "handle_errors()"
      ],
      "metadata": {
        "colab": {
          "base_uri": "https://localhost:8080/"
        },
        "id": "uqTAtG_KjoUd",
        "outputId": "0f56912b-ae14-4e04-f85f-a652e80ada0a"
      },
      "execution_count": 37,
      "outputs": [
        {
          "output_type": "stream",
          "name": "stdout",
          "text": [
            "Accessing index 4 from list:\n",
            "IndexError occured: list index out of range\n",
            "Accessing key 'c' from dictionary:\n",
            "KeyError occured: 'c'\n"
          ]
        }
      ]
    },
    {
      "cell_type": "code",
      "source": [
        "#Q20. How would you open a file and read its contents using a context manager in Python\n",
        "with open(\"file.txt\",\"r\") as file:\n",
        "  content=file.read()\n",
        "  print(content)"
      ],
      "metadata": {
        "colab": {
          "base_uri": "https://localhost:8080/"
        },
        "id": "Dnfb3i06lWUq",
        "outputId": "469f6112-6c8b-49e8-e5fd-d9ede2cbbbeb"
      },
      "execution_count": 39,
      "outputs": [
        {
          "output_type": "stream",
          "name": "stdout",
          "text": [
            "My name is Akash\n",
            "I am from Jamshedpur\n",
            "It is raining in my cityI am a Data Analyst\n",
            "I completed my course in PWSKILLS\n",
            "\n"
          ]
        }
      ]
    },
    {
      "cell_type": "code",
      "source": [
        "#Q21. Write a Python program that reads a file and prints the number of occurrences of a specific word\n",
        "def count_word(filename,Target_word):\n",
        "  try:\n",
        "    with open(\"file.txt\",'r') as file:\n",
        "      content=file.read()\n",
        "      words=content.lower().split()\n",
        "      count=words.count(Target_word.lower())\n",
        "      print(f\"the word'{Target_word}'occurs {count} times in '{filename}'.\")\n",
        "  except FileNotFoundError:\n",
        "    print(f\"File '{filename}' not found.\")\n",
        "  except Exception as e:\n",
        "    print(f\"An error occurred: {e}\")\n",
        "\n",
        "\n",
        "filename=\"file.txt\"\n",
        "Target_word=\"Akash\"\n",
        "count_word(filename,Target_word)"
      ],
      "metadata": {
        "colab": {
          "base_uri": "https://localhost:8080/"
        },
        "id": "nxh8hfx8mOmz",
        "outputId": "9c1882cf-0967-41bd-c394-54ce24f2470e"
      },
      "execution_count": 43,
      "outputs": [
        {
          "output_type": "stream",
          "name": "stdout",
          "text": [
            "the word'Akash'occurs 1 times in 'file.txt'.\n"
          ]
        }
      ]
    },
    {
      "cell_type": "code",
      "source": [
        "#Q22. How can you check if a file is empty before attempting to read its contents\n",
        "import os\n",
        "filename=\"file.txt\"\n",
        "if os.path.exists(filename) and os.access(filename,os.R_OK):\n",
        "    print(f\"The file '{filename}' exists and is readable.\")\n",
        "    with open(filename,'r') as file:\n",
        "      content=file.read()\n",
        "      print(\"File contents:\")\n",
        "      print(content)\n",
        "else:\n",
        "  print(f\"The file '{filename}' does not exist or is not readable\")"
      ],
      "metadata": {
        "colab": {
          "base_uri": "https://localhost:8080/"
        },
        "id": "NYRyKSKRoC2U",
        "outputId": "449fa122-03f6-4323-ba49-08e9573c6765"
      },
      "execution_count": 45,
      "outputs": [
        {
          "output_type": "stream",
          "name": "stdout",
          "text": [
            "The file 'file.txt' exists and is readable.\n",
            "File contents:\n",
            "My name is Akash\n",
            "I am from Jamshedpur\n",
            "It is raining in my cityI am a Data Analyst\n",
            "I completed my course in PWSKILLS\n",
            "\n"
          ]
        }
      ]
    },
    {
      "cell_type": "code",
      "source": [
        "#Q23. Write a Python program that writes to a log file when an error occurs during file handling.\n",
        "import logging\n",
        "logging.basicConfig(filename=\"error_log.txt\",level=logging.ERROR)\n",
        "\n",
        "def read_file(filename):\n",
        "  try:\n",
        "    with open(filename,'r') as file:\n",
        "      content=file.read()\n",
        "      print(\"File contents:\")\n",
        "      print(content)\n",
        "  except FileNotFoundError:\n",
        "    logging.error(f\"File '{filename}' not found.\")\n",
        "  except Exception as e:\n",
        "    logging.error(f\"An error occurred while reading '{filename}': {e}\")\n",
        "\n",
        "\n",
        "read_file(\"file.txt\")"
      ],
      "metadata": {
        "colab": {
          "base_uri": "https://localhost:8080/"
        },
        "id": "AvmcrwRUpnnU",
        "outputId": "69857aad-20cb-4702-9bdf-b7e2c037d01a"
      },
      "execution_count": 47,
      "outputs": [
        {
          "output_type": "stream",
          "name": "stdout",
          "text": [
            "File contents:\n",
            "My name is Akash\n",
            "I am from Jamshedpur\n",
            "It is raining in my cityI am a Data Analyst\n",
            "I completed my course in PWSKILLS\n",
            "\n"
          ]
        }
      ]
    }
  ]
}